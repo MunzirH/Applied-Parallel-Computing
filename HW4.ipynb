{
 "cells": [
  {
   "cell_type": "code",
   "execution_count": null,
   "id": "familiar-subscriber",
   "metadata": {
    "deletable": false,
    "editable": false,
    "nbgrader": {
     "cell_type": "code",
     "checksum": "ec3af7de45ba953749785cfe1a09ee80",
     "grade": false,
     "grade_id": "cell-13a7377ea4df0081",
     "locked": true,
     "schema_version": 3,
     "solution": false,
     "task": false
    }
   },
   "outputs": [],
   "source": [
    "from numpy.testing import assert_, assert_equal, assert_almost_equal, assert_allclose, assert_approx_equal, assert_raises\n",
    "import numpy as np #import numpy as usual\n",
    "from simple_plot import *\n",
    "# from numpy import linalg as LA #import linear algebra package for norms, etc."
   ]
  },
  {
   "cell_type": "markdown",
   "id": "designed-seven",
   "metadata": {
    "deletable": false,
    "editable": false,
    "nbgrader": {
     "cell_type": "markdown",
     "checksum": "a7c52d505440717a12f3231f4788ef4c",
     "grade": false,
     "grade_id": "cell-9fe22ee93184795b",
     "locked": true,
     "schema_version": 3,
     "solution": false,
     "task": false
    },
    "slideshow": {
     "slide_type": "subslide"
    }
   },
   "source": [
    "##### ME 574 Spring 2021\n",
    "\n",
    "# Homework 4\n",
    "\n",
    "The goal of this last homework involves converting a serial implementation of the grid-based integration code (codimension 1 in a 2D ambient space) to a parallelized version. \n",
    "\n",
    "The full serial implementation is in the file `grid2dcodim1_simple.py` and the compatible plotting functions are in the latest version of `simple_plot.py`. Please download these files from Canvas to help you make progress on this homework.\n",
    "\n",
    "Let's start by assigning some parameter values, computing arrays of coordinate values, and defining the function $f$ that defines an elliptical domain of integration.\n"
   ]
  },
  {
   "cell_type": "code",
   "execution_count": null,
   "id": "04ddc128",
   "metadata": {
    "deletable": false,
    "editable": false,
    "nbgrader": {
     "cell_type": "code",
     "checksum": "ef7b66bcdc52722a3f5cac5092edc521",
     "grade": false,
     "grade_id": "cell-68b8f5c636c7d99d",
     "locked": true,
     "schema_version": 3,
     "solution": false,
     "task": false
    }
   },
   "outputs": [],
   "source": [
    "m = 1.1 # maximum absolute valute of coordinates\n",
    "N = 32 # number of grid points along each coordinate direction\n",
    "h = 2*m/(N-1) #grid spacing\n",
    "x = np.linspace(-m, m, N) #array of x coordinate values\n",
    "y = np.linspace(-m, m, N) #array of y coordinate values\n",
    "\n",
    "def f(x,y,a,b):\n",
    "    \"\"\"\n",
    "    Implicit definition of an ellipse\n",
    "    \n",
    "    Arguments:\n",
    "    x,y: float coordinates\n",
    "    a,b: float semi-major axes\n",
    "    \n",
    "    Returns: float that is negative/poitive/zero inside/outside/on the ellipse resp.\n",
    "    \"\"\"\n",
    "    return (x/a)**2 + (y/b)**2 - 1 #ellipse\n"
   ]
  },
  {
   "cell_type": "markdown",
   "id": "0b2d805d",
   "metadata": {
    "deletable": false,
    "editable": false,
    "nbgrader": {
     "cell_type": "markdown",
     "checksum": "cb4144e6659afd30633c016ba927873f",
     "grade": false,
     "grade_id": "cell-359c4fd3d7f5fcda",
     "locked": true,
     "schema_version": 3,
     "solution": false,
     "task": false
    }
   },
   "source": [
    "The first thing that needs to be done is to compute a grid of sample values of the relevant functions. Let's keep it simple and let the integrand be $g \\equiv 1$, so we only need tocompute a grid of values for the function `f` that defines the domain of integration. Below is a serial version of `sample_f` that computes a grid of values of the defining function."
   ]
  },
  {
   "cell_type": "code",
   "execution_count": null,
   "id": "111fdc6f",
   "metadata": {
    "deletable": false,
    "editable": false,
    "nbgrader": {
     "cell_type": "code",
     "checksum": "5448c85c8d777c8f3b475330ee0a5e56",
     "grade": false,
     "grade_id": "cell-46cf55b89ad5ce8c",
     "locked": true,
     "schema_version": 3,
     "solution": false,
     "task": false
    }
   },
   "outputs": [],
   "source": [
    "def sample_f(x,y,a,b):\n",
    "    \"\"\"\n",
    "    Compute an array of sample values of the function f on a regular grid.\n",
    "    \n",
    "    Arguments:\n",
    "    x,y: 1D numpy linspace of x/y coordinate values resp.\n",
    "    a,b: float parameter values to pass to f(x,y,a,b)\n",
    "    \n",
    "    Returns:\n",
    "    out: 2D numpy array of sample values of f\n",
    "    \"\"\"\n",
    "    nx, ny = x.shape[0], y.shape[0]\n",
    "    out = np.zeros([nx,ny])\n",
    "    for j in range(ny):\n",
    "        for i in range(nx):\n",
    "            out[i,j] = f(x[i], y[j], a, b)\n",
    "    return out"
   ]
  },
  {
   "cell_type": "code",
   "execution_count": null,
   "id": "7af8779f",
   "metadata": {},
   "outputs": [],
   "source": [
    "m = 2.5\n",
    "N = 32\n",
    "x = np.linspace(-m,m,N)\n",
    "y = np.linspace(-m,m,N)\n",
    "f_vals = sample_f(x, y, 2., 1.)\n",
    "arraycontourplot(x,y,f_vals.T)"
   ]
  },
  {
   "cell_type": "markdown",
   "id": "24bbe955",
   "metadata": {
    "deletable": false,
    "editable": false,
    "nbgrader": {
     "cell_type": "markdown",
     "checksum": "376fe7154c3966b35350a2d3fa154811",
     "grade": false,
     "grade_id": "cell-2d0314eea54fdb2f",
     "locked": true,
     "schema_version": 3,
     "solution": false,
     "task": false
    }
   },
   "source": [
    "1. A parallel version of `sample_f` would call a kernel function (let's call it `sample_kernel`) and launch a 2D computational grid. An implementation of `sample_kernel` is given below:"
   ]
  },
  {
   "cell_type": "code",
   "execution_count": null,
   "id": "5aa608da",
   "metadata": {
    "deletable": false,
    "editable": false,
    "nbgrader": {
     "cell_type": "code",
     "checksum": "4d316b8e449b10a9cfbf78d19dd89392",
     "grade": false,
     "grade_id": "cell-ec2a0c3443151df8",
     "locked": true,
     "schema_version": 3,
     "solution": false,
     "task": false
    }
   },
   "outputs": [],
   "source": [
    "from numba import cuda\n",
    "\n",
    "@cuda.jit()\n",
    "def sample_kernel(d_out, d_x, d_y, a, b):\n",
    "    nx, ny = d_x.shape[0], d_y.shape[0]\n",
    "    i,j = cuda.grid(2)\n",
    "    if i<nx and j<ny:\n",
    "        d_out[i,j] =  fpar(d_x[i], d_y[j], a, b)"
   ]
  },
  {
   "cell_type": "markdown",
   "id": "6ebadabf",
   "metadata": {
    "deletable": false,
    "editable": false,
    "nbgrader": {
     "cell_type": "markdown",
     "checksum": "c4ec3a3c086b5466d46d4e278a42e20a",
     "grade": false,
     "grade_id": "cell-f618660f136ce322",
     "locked": true,
     "schema_version": 3,
     "solution": false,
     "task": false
    }
   },
   "source": [
    "2. Note that `sample_kernel` runs on the GPU and needs to call a version of `f` (named `fpar` above). Create and execute a definition of `fpar` that is equivalent to `f` but executes on the GPU."
   ]
  },
  {
   "cell_type": "code",
   "execution_count": null,
   "id": "bb03ff88",
   "metadata": {
    "deletable": false,
    "nbgrader": {
     "cell_type": "code",
     "checksum": "6324d7f89ee84321af2c0a83b28ddd38",
     "grade": true,
     "grade_id": "cell-8df4b4a0532083b8",
     "locked": false,
     "points": 4,
     "schema_version": 3,
     "solution": true,
     "task": false
    }
   },
   "outputs": [],
   "source": [
    "# Implement a version of f(x,y,a,b) that can execute on the GPU\n",
    "# YOUR CODE HERE\n",
    "raise NotImplementedError()"
   ]
  },
  {
   "cell_type": "markdown",
   "id": "36acb384",
   "metadata": {
    "deletable": false,
    "editable": false,
    "nbgrader": {
     "cell_type": "markdown",
     "checksum": "e93ab3f6101db8c44cdcced99abff44b",
     "grade": false,
     "grade_id": "cell-5918c13ff25f4eea",
     "locked": true,
     "schema_version": 3,
     "solution": false,
     "task": false
    }
   },
   "source": [
    "2. Write the code for the wrapper function `sample_wrapper` (that calls `sample_kernel`) to replace `sample_f`."
   ]
  },
  {
   "cell_type": "code",
   "execution_count": null,
   "id": "a69734fe",
   "metadata": {
    "deletable": false,
    "nbgrader": {
     "cell_type": "code",
     "checksum": "6ceac15c86150af5089a49e2d953412b",
     "grade": false,
     "grade_id": "cell-9ee2c76297ffe2bd",
     "locked": false,
     "schema_version": 3,
     "solution": true,
     "task": false
    }
   },
   "outputs": [],
   "source": [
    "def sample_wrapper(x,y,a,b):\n",
    "    \"\"\"\n",
    "    Compute a grid of sampled values of the function f.\n",
    "    \n",
    "    Arguments:\n",
    "    x,y: 1D numpy linspace of regularly spaced coordinate values\n",
    "    a,b: float parameter values to pass to f\n",
    "    \n",
    "    Returns:\n",
    "    d_out: 2D numpy device array of sample values.\n",
    "    \"\"\"\n",
    "    # YOUR CODE HERE\n",
    "    raise NotImplementedError()"
   ]
  },
  {
   "cell_type": "code",
   "execution_count": null,
   "id": "80ef93b2",
   "metadata": {
    "deletable": false,
    "editable": false,
    "nbgrader": {
     "cell_type": "code",
     "checksum": "f7f2fd3566fefe22aba18a22c943badc",
     "grade": true,
     "grade_id": "cell-f67143614d344e26",
     "locked": true,
     "points": 8,
     "schema_version": 3,
     "solution": false,
     "task": false
    }
   },
   "outputs": [],
   "source": [
    "expected = sample_f(x,y,1,1)\n",
    "computed = sample_wrapper(x,y,1,1)\n",
    "assert_allclose(expected, computed)"
   ]
  },
  {
   "cell_type": "markdown",
   "id": "8ac5334a",
   "metadata": {
    "deletable": false,
    "editable": false,
    "nbgrader": {
     "cell_type": "markdown",
     "checksum": "96de530973cbe856376c39e73b2e2445",
     "grade": false,
     "grade_id": "cell-da56bc9dc98e26c4",
     "locked": true,
     "schema_version": 3,
     "solution": false,
     "task": false
    }
   },
   "source": [
    "3. The next step is to replace `point_contributions` with a parallel version `contributions_wrapper` that calls a kernel function named `contributions_kernel`. The cell below shows the serial code from `grid2dcodim1_simple.py` including a version of ` contributions_wrapper`. It is up to you to write the code to implement `contributions_kernel`."
   ]
  },
  {
   "cell_type": "code",
   "execution_count": null,
   "id": "4b7c951d",
   "metadata": {
    "deletable": false,
    "editable": false,
    "nbgrader": {
     "cell_type": "code",
     "checksum": "0f2881dddc0268ea42428b76e72b4d4e",
     "grade": false,
     "grade_id": "cell-679d93c4268babd5",
     "locked": true,
     "schema_version": 3,
     "solution": false,
     "task": false
    }
   },
   "outputs": [],
   "source": [
    "from simple_plot import *\n",
    "import math\n",
    "from time import time\n",
    "\n",
    "EPS = 1.e-8 #threshold value of |grad(f)| for indentifying singular points\n",
    "N = 32\n",
    "\n",
    "def chi(f):\n",
    "    return 1 if f<0 else 0\n",
    "\n",
    "def f(x,y,a,b):\n",
    "    return (x/a)**2 + (y/b)**2 - 1\n",
    "\n",
    "def sample_f(x,y,a,b):\n",
    "    \"\"\"\n",
    "    Compute an array of sample values of the function f on a regular grid.\n",
    "    \n",
    "    Arguments:\n",
    "    x,y: 1D numpy linspace of x/y coordinate values resp.\n",
    "    a,b: float parameter values to pass to f(x,y,a,b)\n",
    "    \n",
    "    Returns:\n",
    "    out: 2D numpy array of sample values of f\n",
    "    \"\"\"\n",
    "    nx, ny = x.shape[0], y.shape[0]\n",
    "    out = np.zeros([nx,ny])\n",
    "    for j in range(ny):\n",
    "        for i in range(nx):\n",
    "            out[i,j] = f(x[i], y[j], a, b)\n",
    "    return out\n",
    "\n",
    "def point_contributions(x, y, vals):\n",
    "    nx, ny = x.shape[0], y.shape[0]\n",
    "    out = np.zeros([nx,ny])\n",
    "    for j in range(ny):\n",
    "        for i in range(nx):\n",
    "            if i<1 or j<1 or i >= nx-1 or j >= ny-1:\n",
    "                out[i,j] = 0\n",
    "            \n",
    "            else:\n",
    "                west,  east  = vals[i-1,  j], vals[i+1,  j]\n",
    "                south, north = vals[i  ,j-1], vals[i  ,j+1]\n",
    "\n",
    "                dfdx, dchidx = (east - west), (chi(east) - chi(west))\n",
    "                dfdy, dchidy = (north-south), (chi(north)-chi(south))\n",
    "\n",
    "                denom2 =  dfdx * dfdx +   dfdy * dfdy\n",
    "                numer = dchidx * dfdx + dchidy * dfdy\n",
    "\n",
    "                if denom2 < EPS or 0 == numer:\n",
    "                    out[i,j] = 0\n",
    "\n",
    "                else:\n",
    "                    out[i,j] = numer/math.sqrt(denom2)\n",
    "    return out\n",
    "\n",
    "def main():\n",
    "    a,b = 1.0, 1.0 #geometric parameters (semi-major axes of ellipse)\n",
    "    m = 2.5 #coordinate bounds x,y lie in [-m,m]\n",
    "    h = 2*m/(N-1) #grid spacing\n",
    "    x = np.linspace(-m, m, N)\n",
    "    y = np.linspace(-m, m, N)\n",
    "    vals = sample_f(x,y,a,b)\n",
    "    start = time()\n",
    "    out = point_contributions(x, y, vals)\n",
    "    integral = -(h/2.)*np.sum(out)\n",
    "    elapsed = time() - start\n",
    "\n",
    "    #Uncomment the lnes below to plot the contributions \n",
    "    #to the integral from each grid point.\n",
    "    plot3d(x,y, -out.T)\n",
    "    arraycontourplot(x,y,out.T, levels = [-1., -0.75, -0.5, -0.25, 0])\n",
    "\n",
    "    print(\"\\nWith \", N*N/1e6,\" million points; Path length = \", '%.6f'%integral)\n",
    "    print(\"Elapsed time = \", '%.4f'%elapsed, \" s\")\n",
    "if __name__ == '__main__':\n",
    "    main()"
   ]
  },
  {
   "cell_type": "markdown",
   "id": "c3cbaa48",
   "metadata": {
    "deletable": false,
    "editable": false,
    "nbgrader": {
     "cell_type": "markdown",
     "checksum": "270ae258565106de51c7385311aab6a6",
     "grade": false,
     "grade_id": "cell-20e6b5e16f9fd197",
     "locked": true,
     "schema_version": 3,
     "solution": false,
     "task": false
    }
   },
   "source": [
    "The cell immediately below gives the wrapper function to replace `point_contributions` (and a device function version of `chi` called `chi_par`). In the cell below that, insert your implementation of `contributions_kernel`."
   ]
  },
  {
   "cell_type": "code",
   "execution_count": null,
   "id": "b52ab5b8",
   "metadata": {
    "deletable": false,
    "editable": false,
    "nbgrader": {
     "cell_type": "code",
     "checksum": "1d6f07dd97f61cb7e6c0ae43bdd77dd6",
     "grade": false,
     "grade_id": "cell-bab6757beb9356c9",
     "locked": true,
     "schema_version": 3,
     "solution": false,
     "task": false
    }
   },
   "outputs": [],
   "source": [
    "def contributions_wrapper(x, y, vals):\n",
    "    nx, ny = x.shape[0], y.shape[0]\n",
    "    d_x = cuda.to_device(x)\n",
    "    d_y = cuda.to_device(y)\n",
    "    d_vals = cuda.to_device(vals)\n",
    "    d_out = cuda.device_array([nx,ny])\n",
    "    TPB = 16\n",
    "    threads = TPB, TPB\n",
    "    blocks = (nx+TPB-1)//TPB, (ny+TPB-1)//TPB\n",
    "    contributions_kernel[blocks, threads](d_out, d_x, d_y, d_vals)\n",
    "    return d_out.copy_to_host()\n",
    "\n",
    "@cuda.jit(device=True)\n",
    "def chi_par(f):\n",
    "    return 1 if f<0 else 0"
   ]
  },
  {
   "cell_type": "code",
   "execution_count": null,
   "id": "1f42ea1b",
   "metadata": {
    "deletable": false,
    "nbgrader": {
     "cell_type": "code",
     "checksum": "6049579752061a15591448fbbda8b377",
     "grade": false,
     "grade_id": "cell-1f6524e00430a000",
     "locked": false,
     "schema_version": 3,
     "solution": true,
     "task": false
    }
   },
   "outputs": [],
   "source": [
    "# Write the code to implement contributions_kernel\n",
    "\n",
    "@cuda.jit()\n",
    "def contributions_kernel(out, x, y, vals):\n",
    "    # YOUR CODE HERE\n",
    "    raise NotImplementedError()"
   ]
  },
  {
   "cell_type": "code",
   "execution_count": null,
   "id": "4977d40b",
   "metadata": {
    "deletable": false,
    "editable": false,
    "nbgrader": {
     "cell_type": "code",
     "checksum": "537ceaad6bb7c624789089600ab5edcd",
     "grade": true,
     "grade_id": "cell-80f230394e1c5a27",
     "locked": true,
     "points": 8,
     "schema_version": 3,
     "solution": false,
     "task": false
    }
   },
   "outputs": [],
   "source": [
    "assert_allclose(point_contributions(x, y, f_vals), contributions_wrapper(x, y, f_vals))"
   ]
  },
  {
   "cell_type": "markdown",
   "id": "168a2a69",
   "metadata": {
    "deletable": false,
    "editable": false,
    "nbgrader": {
     "cell_type": "markdown",
     "checksum": "ff004e6b5d09bb3ae2bbf387c622be75",
     "grade": false,
     "grade_id": "cell-51b65399761ccd35",
     "locked": true,
     "schema_version": 3,
     "solution": false,
     "task": false
    }
   },
   "source": [
    "4. OPTIONAL: Copy the version of `main()` from above and paste it into the cell below. Edit the code so that:\n",
    "\n",
    "(a) `np.sum` is replaced by a parellel reduction to achieve a fully parallel implementation.\n",
    "\n",
    "(b) The code executes both the serial and parallel computations of the perimeter and times both computations for a 512 by 512 grid. \n",
    "\n",
    "(c) There is clear comparison of the serial and parallel versions of both the result and the execution times."
   ]
  },
  {
   "cell_type": "code",
   "execution_count": null,
   "id": "439fe5b8",
   "metadata": {
    "deletable": false,
    "nbgrader": {
     "cell_type": "code",
     "checksum": "5a4c87dafec92896213ac0037a6650ae",
     "grade": true,
     "grade_id": "cell-bdef4162d067e663",
     "locked": false,
     "points": 10,
     "schema_version": 3,
     "solution": true,
     "task": false
    }
   },
   "outputs": [],
   "source": [
    "# YOUR CODE HERE\n",
    "raise NotImplementedError()"
   ]
  }
 ],
 "metadata": {
  "kernelspec": {
   "display_name": "Python 3",
   "language": "python",
   "name": "python3"
  },
  "language_info": {
   "codemirror_mode": {
    "name": "ipython",
    "version": 3
   },
   "file_extension": ".py",
   "mimetype": "text/x-python",
   "name": "python",
   "nbconvert_exporter": "python",
   "pygments_lexer": "ipython3",
   "version": "3.8.8"
  }
 },
 "nbformat": 4,
 "nbformat_minor": 5
}
